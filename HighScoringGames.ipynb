{
 "cells": [
  {
   "cell_type": "code",
   "execution_count": 1,
   "metadata": {},
   "outputs": [],
   "source": [
    "import json\n",
    "import glob"
   ]
  },
  {
   "cell_type": "code",
   "execution_count": 2,
   "metadata": {},
   "outputs": [],
   "source": [
    "files = glob.glob('./files/*.json')"
   ]
  },
  {
   "cell_type": "markdown",
   "metadata": {},
   "source": [
    "Start by importing the data and splitting it by lines"
   ]
  },
  {
   "cell_type": "code",
   "execution_count": 3,
   "metadata": {},
   "outputs": [],
   "source": [
    "raw = []\n",
    "for log in files:\n",
    "    with open(log, 'r') as f:\n",
    "        raw += f.read().split(\"\\n\")"
   ]
  },
  {
   "cell_type": "code",
   "execution_count": 4,
   "metadata": {},
   "outputs": [],
   "source": [
    "json_lines = []\n",
    "for line in raw:\n",
    "    if(line != \"\"):\n",
    "        json_lines.append(json.loads(line))"
   ]
  },
  {
   "cell_type": "markdown",
   "metadata": {},
   "source": [
    "How many lines did we get?"
   ]
  },
  {
   "cell_type": "code",
   "execution_count": 5,
   "metadata": {},
   "outputs": [
    {
     "name": "stdout",
     "output_type": "stream",
     "text": [
      "58057\n"
     ]
    }
   ],
   "source": [
    "print(len(json_lines))"
   ]
  },
  {
   "cell_type": "code",
   "execution_count": 75,
   "metadata": {},
   "outputs": [],
   "source": [
    "games = {}\n",
    "threshold = 20\n",
    "for line in json_lines:\n",
    "    for update in line[\"schedule\"]:\n",
    "        if update[\"finalized\"]:\n",
    "            if(update[\"homeScore\"] >= threshold or update[\"awayScore\"] >= threshold):\n",
    "                games[update[\"_id\"]] = (\"Season \" + str(update[\"season\"] + 1) + \" Day \" + str(update[\"day\"] + 1),\n",
    "                                        update[\"homeScore\"],\n",
    "                                        update[\"homeTeamNickname\"],\n",
    "                                        update[\"awayScore\"],\n",
    "                                        update[\"awayTeamNickname\"])"
   ]
  },
  {
   "cell_type": "code",
   "execution_count": 76,
   "metadata": {},
   "outputs": [
    {
     "name": "stdout",
     "output_type": "stream",
     "text": [
      "2\n"
     ]
    }
   ],
   "source": [
    "print(len(games))"
   ]
  },
  {
   "cell_type": "code",
   "execution_count": 77,
   "metadata": {},
   "outputs": [
    {
     "name": "stdout",
     "output_type": "stream",
     "text": [
      "ff1e878a-72d7-4162-bb10-3205fa4fa8d5: ('Season 3 Day 5', 3, u'Pies', 20, u'Tigers')\n",
      "ec45256a-3261-4e6a-92f4-306636c5420d: ('Season 2 Day 38', 20, u'Garages', 2, u'Tacos')\n"
     ]
    }
   ],
   "source": [
    "for game in games:\n",
    "    print(game + \": \" + str(games[game]))"
   ]
  },
  {
   "cell_type": "code",
   "execution_count": null,
   "metadata": {},
   "outputs": [],
   "source": []
  }
 ],
 "metadata": {
  "kernelspec": {
   "display_name": "Python 2",
   "language": "python",
   "name": "python2"
  },
  "language_info": {
   "codemirror_mode": {
    "name": "ipython",
    "version": 3
   },
   "file_extension": ".py",
   "mimetype": "text/x-python",
   "name": "python",
   "nbconvert_exporter": "python",
   "pygments_lexer": "ipython3",
   "version": "3.8.5"
  }
 },
 "nbformat": 4,
 "nbformat_minor": 2
}
