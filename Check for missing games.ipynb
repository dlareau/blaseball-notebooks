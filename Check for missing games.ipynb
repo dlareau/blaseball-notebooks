{
 "cells": [
  {
   "cell_type": "code",
   "execution_count": 156,
   "metadata": {},
   "outputs": [],
   "source": [
    "import json\n",
    "import glob\n",
    "from IPython.display import clear_output"
   ]
  },
  {
   "cell_type": "markdown",
   "metadata": {},
   "source": [
    "Start by importing the data and splitting it by lines"
   ]
  },
  {
   "cell_type": "code",
   "execution_count": 169,
   "metadata": {},
   "outputs": [],
   "source": [
    "filename = \"tehstone_s3.json\"\n",
    "#filename = \"season3.json\"\n",
    "#filename = \"blaseball-log-season3.json\"\n",
    "#filename = \"combined-blaseball-log-1596691883485.json\""
   ]
  },
  {
   "cell_type": "code",
   "execution_count": 170,
   "metadata": {},
   "outputs": [],
   "source": [
    "raw = []\n",
    "with open(filename, 'r') as f:\n",
    "    raw += f.read().split(\"\\n\")\n",
    "if(raw[-1] == \"\"):\n",
    "    raw = raw[:-1]"
   ]
  },
  {
   "cell_type": "code",
   "execution_count": 171,
   "metadata": {},
   "outputs": [],
   "source": [
    "json_lines = []\n",
    "for line in raw:\n",
    "    json_lines.append(json.loads(line))"
   ]
  },
  {
   "cell_type": "markdown",
   "metadata": {},
   "source": [
    "How many lines did we get?"
   ]
  },
  {
   "cell_type": "code",
   "execution_count": 172,
   "metadata": {},
   "outputs": [
    {
     "name": "stdout",
     "output_type": "stream",
     "text": [
      "52883\n"
     ]
    }
   ],
   "source": [
    "print(len(json_lines))"
   ]
  },
  {
   "cell_type": "code",
   "execution_count": 173,
   "metadata": {},
   "outputs": [],
   "source": [
    "def legalStateChange(old_state, new_state):\n",
    "    # Ignore bad starting game states\n",
    "    if(old_state[\"lastUpdate\"] == 'Game over.' and new_state[\"lastUpdate\"] != 'Game over.'):\n",
    "        return None\n",
    "    if(old_state[\"lastUpdate\"] == \"\"):\n",
    "        return None\n",
    "    \n",
    "    # Check for skipped innings\n",
    "    if(new_state[\"inning\"] - old_state[\"inning\"] > 1 or new_state[\"inning\"] - old_state[\"inning\"] < 0):\n",
    "        return (0, f\"Skipped an inning. {old_state['inning']} -> {new_state['inning']}\")\n",
    "    \n",
    "    # Check for skipped half innings\n",
    "    if(new_state[\"inning\"] != old_state[\"inning\"] and new_state[\"topOfInning\"] == old_state[\"topOfInning\"]):\n",
    "        return (1, f\"Skipped a half inning. {(old_state['inning'], old_state['topOfInning'])} -> \" + \n",
    "                f\"{(new_state['inning'], new_state['topOfInning'])}\")\n",
    "    if(new_state[\"inning\"] == old_state[\"inning\"] and new_state[\"topOfInning\"] and not old_state[\"topOfInning\"]):\n",
    "        return (1, f\"Skipped a half inning. {(old_state['inning'], old_state['topOfInning'])} -> \" + \n",
    "                f\"{(new_state['inning'], new_state['topOfInning'])}\")\n",
    "    \n",
    "    # Check for score decrements GRAND UNSLAM\n",
    "    if(new_state[\"awayScore\"] < old_state[\"awayScore\"]):\n",
    "        return (2, f\"awayScore went down. {old_state['awayScore']} -> {new_state['awayScore']}\")\n",
    "    if(new_state[\"homeScore\"] < old_state[\"homeScore\"]):\n",
    "        return (2, f\"homeScore went down. {old_state['homeScore']} -> {new_state['homeScore']}\")\n",
    "    \n",
    "    # Check for too many scores\n",
    "    if(new_state[\"awayScore\"] - old_state[\"awayScore\"] > len(old_state[\"basesOccupied\"]) + 1):\n",
    "        return (3, f\"awayScore incremented by too many runs.\" +\n",
    "                f\"{old_state['awayScore']} -> {new_state['awayScore']} w/bases: {old_state['basesOccupied']}\")\n",
    "    if(new_state[\"homeScore\"] - old_state[\"homeScore\"] > len(old_state[\"basesOccupied\"]) + 1):\n",
    "        return (3, f\"homeScore incremented by too many runs.\" +\n",
    "                f\"{old_state['homeScore']} -> {new_state['homeScore']} w/bases: {old_state['basesOccupied']}\")\n",
    "    \n",
    "    # Check for skips in balls/strikes\n",
    "    if(new_state[\"atBatBalls\"] - old_state[\"atBatBalls\"] > 1):\n",
    "        return (4, f\"skipped a ball: {old_state['atBatBalls']} -> {new_state['atBatBalls']}\")\n",
    "    \n",
    "    if(new_state[\"atBatStrikes\"] - old_state[\"atBatStrikes\"] > 1):\n",
    "        return (4, f\"skipped a strike: {old_state['atBatStrikes']} -> {new_state['atBatStrikes']}\")\n",
    "\n",
    "    # Check for skips in player roster\n",
    "    if(abs(new_state[\"awayTeamBatterCount\"] - old_state[\"awayTeamBatterCount\"]) > 1):\n",
    "        return (5, f\"awayTeamBatterCount skipped a batter.\" +\n",
    "                f\"{old_state['awayTeamBatterCount']} -> {new_state['awayTeamBatterCount']}\")\n",
    "    if(abs(new_state[\"homeTeamBatterCount\"] - old_state[\"homeTeamBatterCount\"]) > 1):\n",
    "        return (5, f\"homeTeamBatterCount skipped a batter.\" +\n",
    "                f\"{old_state['homeTeamBatterCount']} -> {new_state['homeTeamBatterCount']}\")\n",
    "    return None"
   ]
  },
  {
   "cell_type": "code",
   "execution_count": 174,
   "metadata": {},
   "outputs": [],
   "source": [
    "def updateUniqueID(update):\n",
    "    return (update[\"inning\"], update[\"topOfInning\"], update[\"atBatBalls\"], update[\"atBatStrikes\"], update[\"lastUpdate\"])"
   ]
  },
  {
   "cell_type": "code",
   "execution_count": 175,
   "metadata": {
    "scrolled": true
   },
   "outputs": [],
   "source": [
    "updates_by_game = {}\n",
    "count = 0\n",
    "errors = []\n",
    "for line in json_lines:\n",
    "    for update in line[\"schedule\"]:\n",
    "        if update[\"_id\"] not in updates_by_game:\n",
    "            updates_by_game[update[\"_id\"]] = [update]\n",
    "            continue;\n",
    "        \n",
    "        last_update = updates_by_game[update[\"_id\"]][-1]\n",
    "        if(last_update == update):\n",
    "            continue\n",
    "        \n",
    "        change = legalStateChange(last_update, update)\n",
    "        if(change):\n",
    "            count += 1\n",
    "            # print(update[\"_id\"], \":\", change)\n",
    "            errors.append((update[\"_id\"], update[\"inning\"], change[0], change[1], updateUniqueID(update)))\n",
    "        updates_by_game[update[\"_id\"]].append(update)"
   ]
  },
  {
   "cell_type": "code",
   "execution_count": 176,
   "metadata": {},
   "outputs": [
    {
     "data": {
      "text/plain": [
       "1002"
      ]
     },
     "execution_count": 176,
     "metadata": {},
     "output_type": "execute_result"
    }
   ],
   "source": [
    "len(updates_by_game)"
   ]
  },
  {
   "cell_type": "code",
   "execution_count": 177,
   "metadata": {},
   "outputs": [
    {
     "data": {
      "text/plain": [
       "859"
      ]
     },
     "execution_count": 177,
     "metadata": {},
     "output_type": "execute_result"
    }
   ],
   "source": [
    "count"
   ]
  },
  {
   "cell_type": "code",
   "execution_count": 151,
   "metadata": {},
   "outputs": [],
   "source": [
    "def inspectGameError(error):\n",
    "    updates = updates_by_game[error[0]]\n",
    "    print(\"ERROR WAS\", error[3])\n",
    "    for update in updates:\n",
    "        if(updateUniqueID(update) == error[4]):\n",
    "            print(\"E => \", end='')\n",
    "        else:\n",
    "            print(\"     \", end='')\n",
    "        if(error[2] == 0):\n",
    "            print(f\"Inning: {update['inning']}, {update['lastUpdate']}\")\n",
    "        elif(abs(update[\"inning\"] - error[1]) < 2):\n",
    "            if(error[2] == 1):\n",
    "                print(f\"Inning/isTop: {(update['inning'], update['topOfInning'])}, {update['lastUpdate']}\")\n",
    "            elif(error[2] == 2):\n",
    "                print(f\"(awayScore, homeScore): {(update['awayScore'], update['homeScore'])}, {update['lastUpdate']}\")\n",
    "            elif(error[2] == 3):\n",
    "                print(f\"Bases/(awayScore, homeScore): {(update['basesOccupied'], (update['awayScore'], update['homeScore']))}, {update['lastUpdate']}\")\n",
    "            elif(error[2] == 4):\n",
    "                print(f\"(balls, strikes): {(update['atBatBalls'], update['atBatStrikes'])}, {update['lastUpdate']}\")\n",
    "            elif(error[2] == 5):\n",
    "                print(update['lastUpdate'])"
   ]
  },
  {
   "cell_type": "code",
   "execution_count": 158,
   "metadata": {
    "scrolled": false
   },
   "outputs": [
    {
     "name": "stdout",
     "output_type": "stream",
     "text": [
      "ERROR WAS skipped a ball: 0 -> 2\n",
      "     (balls, strikes): (0, 0), \n",
      "     (balls, strikes): (0, 0), Play ball!\n",
      "     (balls, strikes): (0, 0), Top of 1, Chicago Firefighters batting.\n",
      "     (balls, strikes): (0, 0), Paula Mason batting for the Firefighters.\n",
      "     (balls, strikes): (0, 0), Paula Mason hit a ground out to Taiga Quitter.\n",
      "     (balls, strikes): (0, 0), Declan Suzanne batting for the Firefighters.\n",
      "     (balls, strikes): (0, 0), Declan Suzanne hit a ground out to Wanda Pothos.\n",
      "     (balls, strikes): (0, 0), Joshua Butt batting for the Firefighters.\n",
      "     (balls, strikes): (1, 0), Ball. 1-0\n",
      "     (balls, strikes): (2, 0), Ball. 2-0\n",
      "     (balls, strikes): (2, 1), Strike, looking. 2-1\n",
      "     (balls, strikes): (3, 1), Ball. 3-1\n",
      "     (balls, strikes): (3, 2), Strike, swinging. 3-2\n",
      "     (balls, strikes): (0, 0), Joshua Butt strikes out looking.\n",
      "     (balls, strikes): (0, 0), Bottom of 1, Los Angeles Tacos batting.\n",
      "     (balls, strikes): (0, 0), Basilio Preston batting for the Tacos.\n",
      "     (balls, strikes): (0, 1), Strike, looking. 0-1\n",
      "E => (balls, strikes): (2, 1), Ball. 2-1\n",
      "     (balls, strikes): (3, 1), Ball. 3-1\n",
      "     (balls, strikes): (3, 2), Strike, swinging. 3-2\n",
      "     (balls, strikes): (0, 0), Basilio Preston struck out swinging.\n",
      "     (balls, strikes): (0, 0), Mcdowell Sasquatch batting for the Tacos.\n",
      "     (balls, strikes): (0, 0), Oh dear Gods...\n",
      "     (balls, strikes): (0, 1), Strike, swinging. 0-1\n",
      "     (balls, strikes): (0, 2), Strike, looking. 0-2\n",
      "     (balls, strikes): (1, 2), Ball. 1-2\n",
      "     (balls, strikes): (0, 0), Mcdowell Sasquatch hit a ground out to Declan Suzanne.\n",
      "     (balls, strikes): (0, 0), Wyatt Mason batting for the Tacos.\n",
      "     (balls, strikes): (1, 0), Ball. 1-0\n",
      "     (balls, strikes): (2, 0), Ball. 2-0\n",
      "     (balls, strikes): (2, 1), Strike, looking. 2-1\n",
      "     (balls, strikes): (2, 2), Strike, looking. 2-2\n",
      "     (balls, strikes): (3, 2), Ball. 3-2\n",
      "     (balls, strikes): (0, 0), Wyatt Mason hit a flyout to Lou Roseheart.\n",
      "     (balls, strikes): (0, 0), Top of 2, Chicago Firefighters batting.\n",
      "     (balls, strikes): (0, 0), Isaac Johnson batting for the Firefighters.\n",
      "     (balls, strikes): (0, 1), Strike, looking. 0-1\n",
      "     (balls, strikes): (0, 1), These birds hate Blaseball!\n",
      "     (balls, strikes): (0, 0), Isaac Johnson hits a Single!\n",
      "     (balls, strikes): (0, 0), Edric Tosser batting for the Firefighters.\n",
      "     (balls, strikes): (1, 0), Ball. 1-0\n",
      "     (balls, strikes): (0, 0), Edric Tosser hits a Single!\n",
      "     (balls, strikes): (0, 0), Rivers Rosa batting for the Firefighters.\n",
      "     (balls, strikes): (0, 1), Foul Ball. 0-1\n",
      "     (balls, strikes): (1, 1), Ball. 1-1\n",
      "     (balls, strikes): (2, 1), Ball. 2-1\n",
      "     (balls, strikes): (2, 2), Strike, swinging. 2-2\n",
      "     (balls, strikes): (3, 2), Ball. 3-2\n",
      "     (balls, strikes): (0, 0), Rivers Rosa hit a flyout to Wyatt Mason.\n",
      "     (balls, strikes): (0, 0), Baby Urlacher batting for the Firefighters.\n",
      "     (balls, strikes): (1, 0), Ball. 1-0\n",
      "     (balls, strikes): (1, 1), Strike, looking. 1-1\n",
      "     (balls, strikes): (0, 0), Baby Urlacher hits a Single! 1 scores.\n",
      "     (balls, strikes): (0, 0), Lou Roseheart batting for the Firefighters.\n",
      "     (balls, strikes): (0, 1), Foul Ball. 0-1\n",
      "     (balls, strikes): (0, 0), Lou Roseheart reaches on fielder's choice. Edric Tosser out at third base.\n",
      "     (balls, strikes): (0, 0), Wesley Poole batting for the Firefighters.\n",
      "     (balls, strikes): (1, 0), Ball. 1-0\n",
      "     (balls, strikes): (1, 1), Foul Ball. 1-1\n",
      "     (balls, strikes): (2, 1), Ball. 2-1\n",
      "     (balls, strikes): (3, 1), Ball. 3-1\n",
      "     (balls, strikes): (0, 0), Wesley Poole draws a walk.\n",
      "     (balls, strikes): (0, 0), Paula Mason batting for the Firefighters.\n",
      "     (balls, strikes): (0, 0), Paula Mason hit a ground out to Basilio Preston.\n",
      "     (balls, strikes): (0, 0), Wyatt Mason hits a Single!\n",
      "     (balls, strikes): (0, 0), Rat Polk batting for the Tacos.\n",
      "     (balls, strikes): (0, 1), Strike, looking. 0-1\n",
      "     (balls, strikes): (0, 2), Strike, looking. 0-2\n",
      "     (balls, strikes): (0, 2), The birds are mad at you. You specifically. You know who you are.\n",
      "     (balls, strikes): (0, 0), Rat Polk struck out swinging.\n",
      "     (balls, strikes): (0, 0), Wanda Pothos batting for the Tacos.\n",
      "     (balls, strikes): (0, 1), Foul Ball. 0-1\n",
      "     (balls, strikes): (0, 2), Strike, looking. 0-2\n",
      "     (balls, strikes): (0, 0), Wanda Pothos hit a flyout to Isaac Johnson.\n",
      "     (balls, strikes): (0, 0), Baldwin Breadwinner batting for the Tacos.\n",
      "     (balls, strikes): (1, 0), Ball. 1-0\n",
      "     (balls, strikes): (0, 0), Baldwin Breadwinner hits a Single! 1 scores.\n",
      "     (balls, strikes): (0, 0), Patel Beyonce batting for the Tacos.\n",
      "     (balls, strikes): (0, 1), Foul Ball. 0-1\n",
      "     (balls, strikes): (1, 1), Ball. 1-1\n",
      "     (balls, strikes): (0, 0), Patel Beyonce hits a Single!\n",
      "     (balls, strikes): (0, 0), Taiga Quitter batting for the Tacos.\n",
      "     (balls, strikes): (0, 0), Taiga Quitter hits a Single! 1 scores.\n",
      "     (balls, strikes): (0, 0), Moses Simmons batting for the Tacos.\n",
      "     (balls, strikes): (0, 1), Strike, looking. 0-1\n",
      "                                                                                                                                                                                                                                                                                                                                                                                                                                                                                                                                                                                                                                                                                                                                                                                                                                                                                                                                                                                                                                                                                                                                                                                                                                                                                                                                                                                                                                         "
     ]
    },
    {
     "ename": "KeyboardInterrupt",
     "evalue": "Interrupted by user",
     "output_type": "error",
     "traceback": [
      "\u001b[0;31m---------------------------------------------------------------------------\u001b[0m",
      "\u001b[0;31mKeyboardInterrupt\u001b[0m                         Traceback (most recent call last)",
      "\u001b[0;32m<ipython-input-158-4ae6c001d778>\u001b[0m in \u001b[0;36m<module>\u001b[0;34m\u001b[0m\n\u001b[1;32m      5\u001b[0m     \u001b[0mhaveInput\u001b[0m \u001b[0;34m=\u001b[0m \u001b[0;32mFalse\u001b[0m\u001b[0;34m\u001b[0m\u001b[0;34m\u001b[0m\u001b[0m\n\u001b[1;32m      6\u001b[0m     \u001b[0;32mwhile\u001b[0m\u001b[0;34m(\u001b[0m\u001b[0;32mnot\u001b[0m \u001b[0mhaveInput\u001b[0m\u001b[0;34m)\u001b[0m\u001b[0;34m:\u001b[0m\u001b[0;34m\u001b[0m\u001b[0;34m\u001b[0m\u001b[0m\n\u001b[0;32m----> 7\u001b[0;31m         \u001b[0mresult\u001b[0m \u001b[0;34m=\u001b[0m \u001b[0minput\u001b[0m\u001b[0;34m(\u001b[0m\u001b[0;34m\"Press 'y' for a true error and 'n' for a false error: \"\u001b[0m\u001b[0;34m)\u001b[0m\u001b[0;34m\u001b[0m\u001b[0;34m\u001b[0m\u001b[0m\n\u001b[0m\u001b[1;32m      8\u001b[0m         \u001b[0;32mif\u001b[0m\u001b[0;34m(\u001b[0m\u001b[0mresult\u001b[0m\u001b[0;34m[\u001b[0m\u001b[0;36m0\u001b[0m\u001b[0;34m]\u001b[0m \u001b[0;34m==\u001b[0m \u001b[0;34m'y'\u001b[0m\u001b[0;34m)\u001b[0m\u001b[0;34m:\u001b[0m\u001b[0;34m\u001b[0m\u001b[0;34m\u001b[0m\u001b[0m\n\u001b[1;32m      9\u001b[0m             \u001b[0mtrueErrors\u001b[0m\u001b[0;34m.\u001b[0m\u001b[0mappend\u001b[0m\u001b[0;34m(\u001b[0m\u001b[0merror\u001b[0m\u001b[0;34m)\u001b[0m\u001b[0;34m\u001b[0m\u001b[0;34m\u001b[0m\u001b[0m\n",
      "\u001b[0;32m/usr/local/lib/python3.8/site-packages/ipykernel/kernelbase.py\u001b[0m in \u001b[0;36mraw_input\u001b[0;34m(self, prompt)\u001b[0m\n\u001b[1;32m    858\u001b[0m                 \u001b[0;34m\"raw_input was called, but this frontend does not support input requests.\"\u001b[0m\u001b[0;34m\u001b[0m\u001b[0;34m\u001b[0m\u001b[0m\n\u001b[1;32m    859\u001b[0m             )\n\u001b[0;32m--> 860\u001b[0;31m         return self._input_request(str(prompt),\n\u001b[0m\u001b[1;32m    861\u001b[0m             \u001b[0mself\u001b[0m\u001b[0;34m.\u001b[0m\u001b[0m_parent_ident\u001b[0m\u001b[0;34m,\u001b[0m\u001b[0;34m\u001b[0m\u001b[0;34m\u001b[0m\u001b[0m\n\u001b[1;32m    862\u001b[0m             \u001b[0mself\u001b[0m\u001b[0;34m.\u001b[0m\u001b[0m_parent_header\u001b[0m\u001b[0;34m,\u001b[0m\u001b[0;34m\u001b[0m\u001b[0;34m\u001b[0m\u001b[0m\n",
      "\u001b[0;32m/usr/local/lib/python3.8/site-packages/ipykernel/kernelbase.py\u001b[0m in \u001b[0;36m_input_request\u001b[0;34m(self, prompt, ident, parent, password)\u001b[0m\n\u001b[1;32m    902\u001b[0m             \u001b[0;32mexcept\u001b[0m \u001b[0mKeyboardInterrupt\u001b[0m\u001b[0;34m:\u001b[0m\u001b[0;34m\u001b[0m\u001b[0;34m\u001b[0m\u001b[0m\n\u001b[1;32m    903\u001b[0m                 \u001b[0;31m# re-raise KeyboardInterrupt, to truncate traceback\u001b[0m\u001b[0;34m\u001b[0m\u001b[0;34m\u001b[0m\u001b[0;34m\u001b[0m\u001b[0m\n\u001b[0;32m--> 904\u001b[0;31m                 \u001b[0;32mraise\u001b[0m \u001b[0mKeyboardInterrupt\u001b[0m\u001b[0;34m(\u001b[0m\u001b[0;34m\"Interrupted by user\"\u001b[0m\u001b[0;34m)\u001b[0m \u001b[0;32mfrom\u001b[0m \u001b[0;32mNone\u001b[0m\u001b[0;34m\u001b[0m\u001b[0;34m\u001b[0m\u001b[0m\n\u001b[0m\u001b[1;32m    905\u001b[0m             \u001b[0;32mexcept\u001b[0m \u001b[0mException\u001b[0m \u001b[0;32mas\u001b[0m \u001b[0me\u001b[0m\u001b[0;34m:\u001b[0m\u001b[0;34m\u001b[0m\u001b[0;34m\u001b[0m\u001b[0m\n\u001b[1;32m    906\u001b[0m                 \u001b[0mself\u001b[0m\u001b[0;34m.\u001b[0m\u001b[0mlog\u001b[0m\u001b[0;34m.\u001b[0m\u001b[0mwarning\u001b[0m\u001b[0;34m(\u001b[0m\u001b[0;34m\"Invalid Message:\"\u001b[0m\u001b[0;34m,\u001b[0m \u001b[0mexc_info\u001b[0m\u001b[0;34m=\u001b[0m\u001b[0;32mTrue\u001b[0m\u001b[0;34m)\u001b[0m\u001b[0;34m\u001b[0m\u001b[0;34m\u001b[0m\u001b[0m\n",
      "\u001b[0;31mKeyboardInterrupt\u001b[0m: Interrupted by user"
     ]
    }
   ],
   "source": [
    "trueErrors = []\n",
    "for error in errors:\n",
    "    clear_output(wait=True)\n",
    "    inspectGameError(error)\n",
    "    haveInput = False\n",
    "    while(not haveInput):\n",
    "        result = input(\"Press 'y' for a true error and 'n' for a false error: \")\n",
    "        if(result[0] == 'y'):\n",
    "            trueErrors.append(error)\n",
    "            haveInput = True\n",
    "        elif(result[0] == 'n'):\n",
    "            haveInput = True"
   ]
  },
  {
   "cell_type": "code",
   "execution_count": null,
   "metadata": {},
   "outputs": [],
   "source": []
  }
 ],
 "metadata": {
  "kernelspec": {
   "display_name": "Python 2",
   "language": "python",
   "name": "python2"
  },
  "language_info": {
   "codemirror_mode": {
    "name": "ipython",
    "version": 3
   },
   "file_extension": ".py",
   "mimetype": "text/x-python",
   "name": "python",
   "nbconvert_exporter": "python",
   "pygments_lexer": "ipython3",
   "version": "3.8.5"
  }
 },
 "nbformat": 4,
 "nbformat_minor": 2
}
