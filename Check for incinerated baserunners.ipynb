{
 "cells": [
  {
   "cell_type": "code",
   "execution_count": 2,
   "metadata": {},
   "outputs": [],
   "source": [
    "import json\n",
    "import glob"
   ]
  },
  {
   "cell_type": "code",
   "execution_count": 3,
   "metadata": {},
   "outputs": [],
   "source": [
    "files = glob.glob('./files/*.json')"
   ]
  },
  {
   "cell_type": "markdown",
   "metadata": {},
   "source": [
    "Start by importing the data and splitting it by lines"
   ]
  },
  {
   "cell_type": "code",
   "execution_count": 4,
   "metadata": {},
   "outputs": [],
   "source": [
    "raw = []\n",
    "for log in files:\n",
    "    with open(log, 'r') as f:\n",
    "        raw += f.read().split(\"\\n\")[:-1]"
   ]
  },
  {
   "cell_type": "code",
   "execution_count": 5,
   "metadata": {},
   "outputs": [],
   "source": [
    "json_lines = []\n",
    "for line in raw:\n",
    "    json_lines.append(json.loads(line))\n"
   ]
  },
  {
   "cell_type": "markdown",
   "metadata": {},
   "source": [
    "How many lines did we get?"
   ]
  },
  {
   "cell_type": "code",
   "execution_count": 6,
   "metadata": {},
   "outputs": [
    {
     "name": "stdout",
     "output_type": "stream",
     "text": [
      "58057\n"
     ]
    }
   ],
   "source": [
    "print(len(json_lines))"
   ]
  },
  {
   "cell_type": "code",
   "execution_count": 39,
   "metadata": {
    "scrolled": false
   },
   "outputs": [
    {
     "name": "stdout",
     "output_type": "stream",
     "text": [
      "[] []\n",
      "Followup:  []\n",
      "['bfd9ff52-9bf6-4aaf-a859-d308d8f29616'] ['bfd9ff52-9bf6-4aaf-a859-d308d8f29616']\n",
      "Followup:  ['bfd9ff52-9bf6-4aaf-a859-d308d8f29616']\n",
      "['bfd9ff52-9bf6-4aaf-a859-d308d8f29616'] ['bfd9ff52-9bf6-4aaf-a859-d308d8f29616']\n",
      "Followup:  ['bfd9ff52-9bf6-4aaf-a859-d308d8f29616']\n",
      "[] []\n",
      "Followup:  []\n",
      "[] []\n",
      "Followup:  []\n",
      "[] []\n",
      "Followup:  []\n",
      "['f3ddfd87-73a2-4681-96fe-829476c97886'] ['f3ddfd87-73a2-4681-96fe-829476c97886']\n",
      "Followup:  ['f3ddfd87-73a2-4681-96fe-829476c97886']\n",
      "[] []\n",
      "Followup:  []\n",
      "[] []\n",
      "Followup:  ['f56657d3-3bdc-4840-a20c-91aca9cc360e']\n",
      "[] []\n",
      "Followup:  []\n",
      "[] []\n",
      "Followup:  []\n",
      "['f2468055-e880-40bf-8ac6-a0763d846eb2', '8604e861-d784-43f0-b0f8-0d43ea6f7814'] ['f2468055-e880-40bf-8ac6-a0763d846eb2', '8604e861-d784-43f0-b0f8-0d43ea6f7814']\n",
      "Followup:  ['f2468055-e880-40bf-8ac6-a0763d846eb2', '8604e861-d784-43f0-b0f8-0d43ea6f7814']\n",
      "[] []\n",
      "Followup:  []\n",
      "['4b3e8e9b-6de1-4840-8751-b1fb45dc5605'] ['4b3e8e9b-6de1-4840-8751-b1fb45dc5605']\n",
      "Followup:  ['4b3e8e9b-6de1-4840-8751-b1fb45dc5605']\n",
      "[] []\n",
      "Followup:  []\n",
      "[] []\n",
      "Followup:  []\n",
      "[] []\n",
      "Followup:  []\n",
      "[] []\n",
      "Followup:  []\n",
      "['ee55248b-318a-4bfb-8894-1cc70e4e0720'] ['ee55248b-318a-4bfb-8894-1cc70e4e0720']\n",
      "Followup:  ['ee55248b-318a-4bfb-8894-1cc70e4e0720']\n",
      "[] []\n",
      "Followup:  []\n",
      "[] []\n",
      "Followup:  []\n",
      "[] []\n",
      "Followup:  []\n",
      "['12577256-bc4e-4955-81d6-b422d895fb12'] ['12577256-bc4e-4955-81d6-b422d895fb12']\n",
      "Followup:  ['12577256-bc4e-4955-81d6-b422d895fb12']\n",
      "[] []\n",
      "Followup:  []\n",
      "[] []\n",
      "Followup:  []\n",
      "[] []\n",
      "Followup:  []\n",
      "[] []\n",
      "Followup:  []\n",
      "[] []\n",
      "Followup:  []\n",
      "[] []\n",
      "Followup:  []\n",
      "[] []\n",
      "Followup:  []\n",
      "['15ae64cd-f698-4b00-9d61-c9fffd037ae2', '083d09d4-7ed3-4100-b021-8fbe30dd43e8'] ['15ae64cd-f698-4b00-9d61-c9fffd037ae2', '083d09d4-7ed3-4100-b021-8fbe30dd43e8']\n",
      "Followup:  ['15ae64cd-f698-4b00-9d61-c9fffd037ae2', '083d09d4-7ed3-4100-b021-8fbe30dd43e8']\n",
      "['4f328502-d347-4d2c-8fad-6ae59431d781'] ['4f328502-d347-4d2c-8fad-6ae59431d781']\n",
      "Followup:  ['4f328502-d347-4d2c-8fad-6ae59431d781']\n",
      "['4f328502-d347-4d2c-8fad-6ae59431d781'] ['4f328502-d347-4d2c-8fad-6ae59431d781']\n",
      "Followup:  ['4f328502-d347-4d2c-8fad-6ae59431d781']\n",
      "['e6114fd4-a11d-4f6c-b823-65691bb2d288', '0f61d948-4f0c-4550-8410-ae1c7f9f5613'] ['e6114fd4-a11d-4f6c-b823-65691bb2d288', '0f61d948-4f0c-4550-8410-ae1c7f9f5613']\n",
      "Followup:  ['e6114fd4-a11d-4f6c-b823-65691bb2d288', '0f61d948-4f0c-4550-8410-ae1c7f9f5613']\n",
      "['678170e4-0688-436d-a02d-c0467f9af8c0'] ['678170e4-0688-436d-a02d-c0467f9af8c0']\n",
      "Followup:  []\n"
     ]
    }
   ],
   "source": [
    "p_updates = [0]*10\n",
    "just_incinerated = -1\n",
    "for line in json_lines:\n",
    "    for update_idx in range(len(line[\"schedule\"])):\n",
    "        if just_incinerated != -1 and update_idx == just_incinerated:\n",
    "            print(\"Followup: \", line[\"schedule\"][update_idx][\"baseRunners\"])\n",
    "            just_incinerated = -1\n",
    "        if\"incinerated\" in line[\"schedule\"][update_idx][\"lastUpdate\"]:\n",
    "            just_incinerated = update_idx\n",
    "            print(p_updates[update_idx][\"baseRunners\"], line[\"schedule\"][update_idx][\"baseRunners\"])\n",
    "        p_updates[update_idx] = line[\"schedule\"][update_idx]"
   ]
  }
 ],
 "metadata": {
  "kernelspec": {
   "display_name": "Python 2",
   "language": "python",
   "name": "python2"
  },
  "language_info": {
   "codemirror_mode": {
    "name": "ipython",
    "version": 3
   },
   "file_extension": ".py",
   "mimetype": "text/x-python",
   "name": "python",
   "nbconvert_exporter": "python",
   "pygments_lexer": "ipython3",
   "version": "3.8.5"
  }
 },
 "nbformat": 4,
 "nbformat_minor": 2
}
